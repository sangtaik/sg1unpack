{
 "cells": [
  {
   "cell_type": "code",
   "execution_count": 12,
   "id": "0af223fa",
   "metadata": {},
   "outputs": [
    {
     "name": "stdout",
     "output_type": "stream",
     "text": [
      "<ImagingCore object at 0x0000019571092EB0>\n",
      "data/sample.png\n",
      "PNG\n",
      "RGBA\n",
      "(64, 64)\n",
      "<_io.BytesIO object at 0x000001956F20A4F0>\n",
      "b'\\x89PNG\\r\\n\\x1a\\n\\x00\\x00\\x00\\rIHDR\\x00\\x00\\x00@\\x00\\x00\\x00@\\x08\\x06\\x00\\x00\\x00\\xaaiq\\xde\\x00\\x00\\x05\\xe8IDATx\\x9c\\xdd[[L\\x1cU\\x18\\xfe\\x06\\x17\\xda>\\xd9\\xc8\\x06HK\\xbc\\xc5b\"\\xb7>(\\x96\\xda\\x07%5\\xd6\\x8d-\\x8a\\x85l\\xda\\xad\\x10(\\x06x\\x10!VH\\x88\\xbe\\xd4\\x90b\\x8cT\\x1fZ\\xed\\xc5J\\x8aJJK\\x93F\\xb0\\xa6D0 (\\t\\x91\\xdb\\x8bT\\xd3h\\xa1\\x16B\\xb0Zak\\xdce|\\xc0\\xb3\\xce\\xce\\xee\\xcc\\xb9\\x0e\\xbb\\xf1{\\x9c\\x99\\xff\\xdf\\x99\\xf3}s\\xce\\xff\\x7fgV\\xcb|\\xacX\\x87\\x04\\x1a\\xeb\\xcb\\xe0\\xf3z\\x84\\xe3\\xb3\\xf2J\\x84c}^\\x0f\\xda;zl\\xcf\\xf7\\x0f\\x8cbfv\\xce\\xf2\\x9a\\x04\\xe1_\\xff\\x17-\\xadm\\xb67\\xe1\\x14|^\\x0f\\x1a\\xeaJ\\x85\\xcf\\x13\\xb8doD\\xd7u\\x1cy\\xf7\\xe3\\xd0\\x8f\\xae\\x05|^\\x0f\\x1a\\xeb\\xcb\\x84\\xcf\\x1b!\\xad\\x00\\x82\\xb5R\\x82*\\xe6\\t\\xa4\\x15@\\xb0\\x16JP\\xc9<\\x812\\x05\\x108\\xa5\\x04\\xd5\\xcc\\x13(S\\x00\\x81\\x13Jp\\x82y\\x02\\xe5\\n P\\xa5\\x04\\xa7\\x98\\'p\\xc9\\xac\\xe3\\xbd}#x\\xb5\\xe1\\x9d\\xa8\\xe7T(\\x81\\x85\\xd9\\xf4M)\\xd04M(?\\x00$\\x882\\xd5\\xdb7\\x82CMG\\xa9\\xd7\\x89\\xe6geVVi.\\x11\\xa6z\\xfbF\\xf0ZS+\\x02\\x81 \\xf5Z\\x91\\xfc<\\xef\\xb4\\xac\\xd2Bs\\x00\\xebH\\x12\\xe6Y\\x1e\\xde\\x08\\xd6\\xfc\\xa2\\xef\\xb4\\xa8\\x12B\\xab\\x00\\xcbH\\xf20o\\x06K~\\x99\\xd9\\\\T\\t\\x11\\xab\\x80\\xd5H\\x8a2\\xcf\\x9a_v6\\xa7\\xe5\\xb7BD\\x1d\\x10m$e\\x98g\\xc9/\\xc3<K~;X\\x16B-\\xadm\\x00\\x80\\xb4T\\xb7\\x12\\xe6\\xad\\xf2\\xabb\\xde*?\\r\\xda\\xd9\\xcf\\xbau\\x99\\x8a\\xad\\xa6\\xee\\x08fo\\xcc\\xe3\\xa7k3\\\\qi\\xa9n\\xe4=\\x9a\\x89[\\xb7nK\\xc5_\\xea\\xfe\\x9a+\\xce\\x08\\x9f\\xd7#^\\x07\\x10\\\\\\xfby\\x16\\xe7\\xce\\xb6\\xe0\\xed\\xc3\\xaf\\xe0\\xc1\\xfb7S\\xafOKIF\\xd3\\xeb\\x15\\xe8\\xbe\\xf0\\x1e\\x16\\x17\\x7f\\x97\\x8e\\x17\\x05Q\\x9eP\\x1d`\\xc4\\xf5\\x999t_\\x1e@\\xd1\\x9e\\x02\\xeczz;._\\x19\\xc2\\x87\\x1fuE0\\x9a\\x96\\xeaFEi!^,,@Rb\"\\xc6\\'\\xa7\\xf1\\xcd\\xb7\\xe3\\xd0u]*^\\xf4\\xe1\\xc9\\x9c\\xa3\\x11KL\\xd344\\xd4\\x95r\\x0fBV^\\t\\xd27\\xa7\\xe2\\xf3\\xce\\xa3p\\xb9\\xee\\x02\\x00\\x04\\x83+\\xf8\\xb2w\\x08\\x1f\\x9c\\xbe\\x80\\xe5\\xe5;\\xa8({\\x1eE{\\n\\xb0.)1\\x14WU\\xdb\\x8c\\xc1\\xe11\\x00\\x90\\x8e\\xe7}\\xf8\\x86\\xba\\xd2P\\xf9\\xac\\x99=A\\xde\\xde\\x80xz\\x87\\xdf\\xa8\\xc6\\x0b\\xbb\\x9f\\n;\\xb7\\xb2\\xb2\\x82@0\\x88\\xa4\\xc4\\xc4\\xb0\\xe3\\x13SW\\xb1\\xaf\\xbc)\\xec\\x98l<\\x0b\\xa2\\xad6\\xccu\\x00\\r\\'\\xcetE\\xac\\x14\\t\\t\\t\\x117\\x0f\\x00\\xc7Nv*\\x8f\\xa7\\xc1j\\xb5\\x89\\x18\\x002\\'\\xf0\\x0e\\xc2\\xf5\\x999\\\\\\xea\\xa1\\xcf\\xc8V\\xef\\xael\\xbc\\x1d\\x08\\xf3\\xd1\\xbaFK?@D\\t\\'\\xce\\\\\\xa4\\xd6\\x0b\\xc7O\\x9d\\x87\\xaeGw\\xe2e\\xe3\\xa3\\x81VgX\\x0e\\x80\\x88\\x12\\xfc\\xfe;\\x08\\x04\\xed\\x1f\\xe0\\x8f\\xdbK\\x8e\\xc5\\x9ba\\xc7<\\x01\\xd5\\x11\\xe2QB\\xf9\\x81B\\xac_\\x97d{MMe\\xb1c\\xf1F\\xb0V\\x98\\xd4\\x01`U\\x82;y#J\\x8avR\\x7f\\xf0\\x89m\\xb9\\xc8\\xcd\\xceP\\x1eo\\x04\\x0b\\xf3\\x04\\xcc\\x9e M\\te\\xfbwc\\xc3\\x86\\xf5\\xd4<\\x9a\\xa6\\xa1\\xfa\\xe0^\\xe5\\xf1\\x04\\xbc\\xbd\\x05\\xf3\\x00\\xd8)!\\xf9\\x9e\\xbb\\xe1-~&\\xec\\xd8\\xf8\\xe44\\xaaj\\x9b\\xb1\\xaf\\xbc\\t\\x83\\xc3ca\\x13\\xd7\\x8e\\xfc\\xad\\xc8\\xc9\\xda\\xa2,\\x9e\\x80\\x87y\\x02n[\\xdc\\xd8\\xc5\\x11\\x18\\xdf\\xdd\\x89\\xa9\\xab8v\\xb23T\\xe6\\x02\\xabU[nv\\x06\\xaa\\x0f\\xee\\xc5\\x8e\\xfc\\xad\\x00V\\xdf\\xe5\\xaa\\xdaf%\\xf1\\xe4~D\\xba\\xca\\x88J\\x90\\x15\\xa4b|\\xf2\\xd9\\x97\\xf1E\\xd7\\xfb\\x98\\xfe\\xf1\\x17\\x1c?u\\x9eZ\\x9e\\xe6dmAMe1\\xb6?\\x9e\\x83\\x03\\x95ob\\xf6\\xc6\\xbcT\\xfc\\xf8\\xe4\\xb4\\x94\\x9f <\\x00\\xa4w\\x18\\x9b\\xf8\\x01\\x7f.\\xf9\\xc3\\x18cAnv\\x06\\xb23\\x1f\\xc2\\xc2\\xc2oR\\xf1\\x00\\xc2j{^\\xb8\\xa6F\\xce\\t\\x05\\x02\\xabN\\xd1\\xb2\\x7f\\x02\\xbf\\xde\\\\\\xe0\\xbay\\x00\\x98\\x9b_\\xc4}\\xf7.a\\xd9\\xff\\x97T\\xfc#\\x0f?\\x80\\x9cm^\\xeex\\x02\\xe1\\x9d!\\xe2\\x11\\xc6\\xda\\x0f\\x90\\xde\\x19\\x12\\t2z\\x84\\xf1\\xe0\\x07\\x90\\t\\xb9\\xa5\\xb5\\x8d[\\t\\x9a\\xce\\x19A\\x98\\xff;\\x10\\x08\\x1d\\x8b\\xa5\\x1f`|\\x85\\xdb;zB\\xe6\\x8e#\\x03`\\xe7\\x0e\\xc7\\xca\\x0f0\\xcfa\\xed\\x1d=\\\\J`\\x9e\\x03h\\xfb\\x02\\xf1\\xe2\\x078R\\t\\x12\\xe6\\x8d\\xb27#\\x9e\\xfc\\x00\\xa5\\xbd\\x00\\xcf\\x8eP<\\xf9\\x01J\\xbaA\\x16\\xe6\\x8d\\xf8_\\xf9\\x01\"{\\x81\\xf1\\xe4\\x07\\x10\\x089B\\xbc\\xcc\\x03\\xf1\\xe5\\x07\\x98\\xc1\\xe5\\t\\x8a\\xee\\x02\\xc7\\x8b\\x1f`\\x05&WX\\x84y ~\\xfc\\x00\\x1a\\xa2)!T\\x08E\\xab\\xf0Xq\\xa8\\xf6%\\x94\\xee\\x7f\\x0e@\\xf4~\\x1e@D??8<\\x16\\xea\\xe7e\\xe2E\\x9a9c\\xc5\\xa8\\xe9\\xba\\xae\\xcb\\xec\\xff\\xbb\\x937\\xc6\\xd4\\x0f\\xf8\\xe4\\xf4[\\xdc\\xf7\\x0c\\xfcW1jW\\xbe\\xfaN\\x17e\\x1e\\x00v\\xed\\xcc\\x8f\\xa9\\x1f \\xf3aE{G\\x0f\\xdd\\x10i\\xac/\\xb3\\xad\\xade\\xfd\\x84\\x9bs\\x0bB]\\x1c\\x0b|^\\x0f\\xd27\\xa5\\xd8\\xe6\\xa7\\xb6\\xc3\\xa4\\xd5\\xe4\\xed\\xb2h s\\xce\\xf7C\\x9f:\\x92\\xdf\\xbc\\x0bl\\x95\\x9f\\xc9\\x0f\\x90\\xe9\\xb7\\xa3\\xc1<\\xe7\\xa8\\xceo\\xf6\\x08\\xed\\xf23w\\x83\\xaa\\xbe\\xe5\\xb1\\xaa3T\\xe5\\xb7\\xcacu\\x9c\\xcb\\x11\\x92e\\x8a\\xb6\\xda\\xc8\\xe6g\\xf9\\xaa\\xdc\\x9c\\x9f\\xdb\\x13\\x14e\\x8a\\xb5\\xc2\\x14\\xcd\\xcf\\x1ag\\xbeN\\xc8\\x134\\x8e$\\x0bx\\xeb\\x0c^%\\xf0\\xee\\x0b\\x18\\xf3\\x0b\\xffa\\x82\\xe7\\xc3j\\x91\\xde\\x82u\\xf5\\x91Q\\x0c \\xf9\\x8f\\x91\\xb4T\\xb7\\xedy\\xd9/LY\\x94\\xd0?0\\x8a\\xfe\\x81Q\\xa1\\xfc\\x80\\xc4\\x00\\x98\\xd7q\\xab\\xf3\\xb2_\\x98\\xd2\\x94`\\xf7\\xa7H\\x16H\\xef\\x0b\\x88\\x9c\\xe7\\x85\\xea:\\xc1\\x08\\xeeU\\x80\\xc6\\xac*\\xe6\\xcdp\\xea\\x9bb.\\x05\\xac5\\xf3f8\\xa1\\x04e\\xfb\\x02N1o\\x86j%0) \\xd6\\xcc\\x9b\\xa1R\\t\\xd2\\xfb\\x02k\\xc5\\xbc\\x19\\xaa\\x94\\xf0\\x0f\\xd1\\x08\\xea\\xed<\\xcc\\x0e\\xed\\x00\\x00\\x00\\x00IEND\\xaeB`\\x82'\n"
     ]
    }
   ],
   "source": [
    "# 참조 : https://ddolcat.tistory.com/690\n",
    "# 이미지를 바이트 배열로 변환하는 방법\n",
    "\n",
    "import io\n",
    "from PIL import Image\n",
    "\n",
    "def image_to_byte_array(image):\n",
    "    imgbytearr = io.BytesIO()\n",
    "    image.save(imgbytearr, format=image.format)\n",
    "    return imgbytearr\n",
    "\n",
    "img = Image.open('data/sample.png')\n",
    "print(img.getdata())\n",
    "print(img.filename)\n",
    "print(img.format) # 만일 image.open('sample.png').convert('L')로 했다면 None으로 나온다.\n",
    "print(img.mode)\n",
    "print(img.size)\n",
    "\n",
    "bytearray = image_to_byte_array(img)\n",
    "print(bytearray)\n",
    "print(bytearray.getvalue())\n",
    "\n",
    "# 다음 과제 1\n",
    "# bytearray.getvalue()를 4byte로 잘라 넣을 수 있는가?"
   ]
  },
  {
   "cell_type": "code",
   "execution_count": 18,
   "id": "b721a9c7",
   "metadata": {},
   "outputs": [
    {
     "ename": "UnidentifiedImageError",
     "evalue": "cannot identify image file 'data/sample_wma.png'",
     "output_type": "error",
     "traceback": [
      "\u001b[1;31m---------------------------------------------------------------------------\u001b[0m",
      "\u001b[1;31mUnidentifiedImageError\u001b[0m                    Traceback (most recent call last)",
      "\u001b[1;32m~\\AppData\\Local\\Temp/ipykernel_14792/2882549673.py\u001b[0m in \u001b[0;36m<module>\u001b[1;34m\u001b[0m\n\u001b[0;32m      3\u001b[0m \u001b[1;31m# 참고 : https://www.devdungeon.com/content/working-binary-data-python\u001b[0m\u001b[1;33m\u001b[0m\u001b[1;33m\u001b[0m\u001b[0m\n\u001b[0;32m      4\u001b[0m \u001b[1;31m#img = Image.open('data/sample.wma')\u001b[0m\u001b[1;33m\u001b[0m\u001b[1;33m\u001b[0m\u001b[0m\n\u001b[1;32m----> 5\u001b[1;33m \u001b[0mimg\u001b[0m \u001b[1;33m=\u001b[0m \u001b[0mImage\u001b[0m\u001b[1;33m.\u001b[0m\u001b[0mopen\u001b[0m\u001b[1;33m(\u001b[0m\u001b[1;34m'data/sample_wma.png'\u001b[0m\u001b[1;33m)\u001b[0m\u001b[1;33m\u001b[0m\u001b[1;33m\u001b[0m\u001b[0m\n\u001b[0m\u001b[0;32m      6\u001b[0m \u001b[1;33m\u001b[0m\u001b[0m\n\u001b[0;32m      7\u001b[0m \u001b[0mbytearray\u001b[0m \u001b[1;33m=\u001b[0m \u001b[0mimage_to_byte_array\u001b[0m\u001b[1;33m(\u001b[0m\u001b[0mimg\u001b[0m\u001b[1;33m)\u001b[0m\u001b[1;33m\u001b[0m\u001b[1;33m\u001b[0m\u001b[0m\n",
      "\u001b[1;32m~\\anaconda3\\lib\\site-packages\\PIL\\Image.py\u001b[0m in \u001b[0;36mopen\u001b[1;34m(fp, mode, formats)\u001b[0m\n\u001b[0;32m   3028\u001b[0m     \u001b[1;32mfor\u001b[0m \u001b[0mmessage\u001b[0m \u001b[1;32min\u001b[0m \u001b[0maccept_warnings\u001b[0m\u001b[1;33m:\u001b[0m\u001b[1;33m\u001b[0m\u001b[1;33m\u001b[0m\u001b[0m\n\u001b[0;32m   3029\u001b[0m         \u001b[0mwarnings\u001b[0m\u001b[1;33m.\u001b[0m\u001b[0mwarn\u001b[0m\u001b[1;33m(\u001b[0m\u001b[0mmessage\u001b[0m\u001b[1;33m)\u001b[0m\u001b[1;33m\u001b[0m\u001b[1;33m\u001b[0m\u001b[0m\n\u001b[1;32m-> 3030\u001b[1;33m     raise UnidentifiedImageError(\n\u001b[0m\u001b[0;32m   3031\u001b[0m         \u001b[1;34m\"cannot identify image file %r\"\u001b[0m \u001b[1;33m%\u001b[0m \u001b[1;33m(\u001b[0m\u001b[0mfilename\u001b[0m \u001b[1;32mif\u001b[0m \u001b[0mfilename\u001b[0m \u001b[1;32melse\u001b[0m \u001b[0mfp\u001b[0m\u001b[1;33m)\u001b[0m\u001b[1;33m\u001b[0m\u001b[1;33m\u001b[0m\u001b[0m\n\u001b[0;32m   3032\u001b[0m     )\n",
      "\u001b[1;31mUnidentifiedImageError\u001b[0m: cannot identify image file 'data/sample_wma.png'"
     ]
    }
   ],
   "source": [
    "# 의문 : 그림파일이 아닌 것은?\n",
    "# 결과 : 에러가 나온다. cannot identify image file\n",
    "# 참고 : https://www.devdungeon.com/content/working-binary-data-python\n",
    "# img = Image.open('data/sample.wma')\n",
    "# img = Image.open('data/sample_wma.png')\n",
    "\n",
    "bytearray = image_to_byte_array(img)\n",
    "print(bytearray)\n",
    "print(bytearray.getvalue())\n",
    "\n",
    "# binary_stream.seek(0)\n",
    "\n",
    "# # Read all data from the buffer\n",
    "# stream_data = binary_stream.read()"
   ]
  },
  {
   "cell_type": "code",
   "execution_count": 21,
   "id": "b9826b4d",
   "metadata": {},
   "outputs": [
    {
     "name": "stdout",
     "output_type": "stream",
     "text": [
      "b'0&\\xb2u\\x8ef\\xcf\\x11\\xa6\\xd9\\x00\\xaa\\x00b\\xcel'\n"
     ]
    }
   ],
   "source": [
    "# 참고 : https://github.com/python-pillow/Pillow/blob/main/src/PIL/Image.py\n",
    "from pathlib import Path\n",
    "import builtins\n",
    "\n",
    "def isPath(f):\n",
    "    return isinstance(f, (bytes, str, Path))\n",
    "\n",
    "def opened(fp, mode=\"r\", formats=None):\n",
    "    \n",
    "    exclusive_fp = False\n",
    "    filename = \"\"\n",
    "    if isinstance(fp, Path):\n",
    "        filename = str(fp.resolve())\n",
    "    elif isPath(fp):\n",
    "        filename = fp\n",
    "\n",
    "    if filename:\n",
    "        fp = builtins.open(filename, \"rb\")\n",
    "        exclusive_fp = True\n",
    "\n",
    "    try:\n",
    "        fp.seek(0)\n",
    "    except (AttributeError, io.UnsupportedOperation):\n",
    "        fp = io.BytesIO(fp.read())\n",
    "        exclusive_fp = True\n",
    "\n",
    "    prefix = fp.read(16)\n",
    "    \n",
    "    print(prefix)\n",
    "    \n",
    "opened('data/sample.wma')"
   ]
  },
  {
   "cell_type": "code",
   "execution_count": null,
   "id": "7a6880ce",
   "metadata": {},
   "outputs": [],
   "source": [
    "# https://www.devdungeon.com/content/working-binary-data-python\n",
    "# 검증된 방법을 통하여 4byte 씩 읽어 마스킹할 것"
   ]
  }
 ],
 "metadata": {
  "kernelspec": {
   "display_name": "Python 3 (ipykernel)",
   "language": "python",
   "name": "python3"
  },
  "language_info": {
   "codemirror_mode": {
    "name": "ipython",
    "version": 3
   },
   "file_extension": ".py",
   "mimetype": "text/x-python",
   "name": "python",
   "nbconvert_exporter": "python",
   "pygments_lexer": "ipython3",
   "version": "3.9.7"
  }
 },
 "nbformat": 4,
 "nbformat_minor": 5
}

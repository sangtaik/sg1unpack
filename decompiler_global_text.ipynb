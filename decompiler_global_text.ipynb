{
 "cells": [
  {
   "cell_type": "code",
   "execution_count": 58,
   "id": "5a9e2233-ad40-4763-bf20-4c1b2c38b64b",
   "metadata": {},
   "outputs": [
    {
     "name": "stdout",
     "output_type": "stream",
     "text": [
      "(MCI 에러! 문자열을 찾을 수 없습니다)\n",
      "인코딩 :  b'abcd \\xec\\x84\\xbc\\xed\\x8b\\xb0\\xeb\\xa9\\x98\\xed\\x83\\x88'\n",
      "인코딩 :  b'abcd \\xbc\\xbe\\xc6\\xbc\\xb8\\xe0\\xc5\\xbb'\n",
      "인코딩 :  b'abcd \\x83Z\\x83\\x93\\x83`\\x83\\x81\\x83\\x93\\x83^\\x83\\x8b'\n",
      "{'encoding': 'utf-8', 'confidence': 0.938125, 'language': ''}\n",
      "{'encoding': None, 'confidence': 0.0, 'language': None}\n",
      "{'encoding': None, 'confidence': 0.0, 'language': None}\n"
     ]
    },
    {
     "data": {
      "text/plain": [
       "'abcd Sentimetal'"
      ]
     },
     "metadata": {},
     "output_type": "display_data"
    }
   ],
   "source": [
    "s = \"a\\xac\\u1234\\u20ac\\U00008000\"\n",
    "# ... #     ^^^^ two-digit hex escape\n",
    "# ... #         ^^^^^^ four-digit Unicode escape\n",
    "# ... #                     ^^^^^^^^^^ eight-digit Unicode escape\n",
    "\n",
    "[ord(c) for c in s]\n",
    "\n",
    "# create by sangtaik 2022.03.22\n",
    "# hexa character -> cp949 string convert example\n",
    "g582 = \"(MCI \\xbf\\xa1\\xb7\\xaf! \\xb9\\xae\\xc0\\xda\\xbf\\xad\\xc0\\xbb \\xc3\\xa3\\xc0\\xbb \\xbc\\xf6 \\xbe\\xf8\\xbd\\xc0\\xb4\\xcf\\xb4\\xd9)\"\n",
    "\n",
    "fixed = g582.encode('latin1').decode('cp949')\n",
    "\n",
    "# it will be printed : (MCI 에러! 문자열을 찾을 수 없습니다)\n",
    "print(fixed)\n",
    "\n",
    "# chardet 라이브러리 설치 필요\n",
    "#!pip install chardet\n",
    "import chardet\n",
    "euc_data = 'abcd Sentimetal'.encode('latin1')\n",
    "encode_utf = 'abcd 센티멘탈'.encode('utf-8')\n",
    "encode_cp949 = 'abcd 센티멘탈'.encode('cp949')\n",
    "encode_shfitjis = 'abcd センチメンタル'.encode('shift_jis')\n",
    "print(\"인코딩 : \",  encode_utf )\n",
    "print(\"인코딩 : \",  encode_cp949 )\n",
    "print(\"인코딩 : \",  encode_shfitjis )\n",
    "\n",
    "# 인코딩 알아내기\n",
    "print (chardet.detect (encode_utf))\n",
    "print (chardet.detect (encode_cp949))\n",
    "print (chardet.detect (encode_shfitjis))\n",
    "\n",
    "display(euc_data.decode('latin1'))\n",
    "# xff make errors \"codec can't decode byte 0xff in position 0\"\n",
    "# display(euc_data.decode('shift_jisx0213'))\n",
    "# display(euc_data.decode('utf-8'))"
   ]
  },
  {
   "cell_type": "code",
   "execution_count": 62,
   "id": "d546f8ad-cde8-448a-a923-06ae6965bca4",
   "metadata": {},
   "outputs": [
    {
     "data": {
      "text/plain": [
       "dict"
      ]
     },
     "metadata": {},
     "output_type": "display_data"
    },
    {
     "name": "stdout",
     "output_type": "stream",
     "text": [
      "g285 \u0006\u000f\u000f\u000f\u0006\n",
      "g378 ~다시하기 데이터.tmp\n",
      "g385 게임 데이터 (*.sav)\n",
      "g388 게임 데이터 (*.sav)\n",
      "g389 삭제\n",
      "g394 \u0002\u0001\n",
      "g395 \u0001\n",
      "g420 자\n",
      "g425 아차，이런　시간에　전화하는　건　원시인이야\n",
      "g435 회상한다\n",
      "g436 그림을 찾을 수 없습니다.\n",
      "g437 이벤트 회상\n",
      "g439 이벤트　테스트\n",
      "g446 BMP- Windows비트맵(*.BMP)\n",
      "g453 벽지 변경에 실패했습니다.\n",
      "g454 서브키 설정 실패\n",
      "g455 레지스트리 열기 실패\n",
      "g458 이름을 입력하세요\n",
      "g459 성을 입력하세요\n",
      "g460 성과 이름을 입력하세요\n",
      "g470 시스템 명령(&S)\n",
      "g474 \u0002\u0003\u0004\u0001\u0003\u0007\u0005\n",
      "g475 \u0001\u0002\u0003\u0003\u0002\u0002\u0005\u0004\u0001\u0002\u0004\u0003\u0002\u0002\u0007\u0005\u0001\u0002\u0003\u0003\u0002\u0002\u0006\u0004\u0001\u0002\u0004\u0003\u0002\u0002\u0001\u0002\u0003\u0003\u0002\u0002\u0005\u0004\u0001\u0002\u0004\u0003\u0002\u0005\u0001\u0002\u0003\u0003\u0002\u0002\u0006\u0004\u0001\u0002\u0004\u0003\u0002\u0002\u0011\n",
      "CPak\n",
      "g476 \u0002\u0003\u0003\u0002\u0002\u0005\u0004\u0001\u0002\u0004\u0003\u0002\u0002\u0007\u0005\u0001\u0002\u0003\u0003\u0002\u0002\u0006\u0004\u0001\u0002\u0004\u0003\u0002\u0002\u0001\u0002\u0003\u0003\u0002\u0002\u0005\u0004\u0001\u0002\u0004\u0003\u0002\u0005\u0001\u0002\u0003\u0003\u0002\u0002\u0006\u0004\u0001\u0002\u0004\u0003\u0002\u0002\u0011\n",
      "CPak\n",
      "g497 이 어플리케이션은, High Color(16비트)이상의 디스플레이 설정이 필요합니다.\n",
      "디스플레이→디스플레이 설정으로 들어가, 설정을 변경하여 주십시오.\n",
      "선택이 가능하다면, True Color(24비트), 또는 True Color(32비트)를 추천합니다.\n",
      "g500 data\\sound\n",
      "g513 \u000f\u0004\n",
      "g514 \u0004\n",
      "g518 6\u0002\u0005\u000f\n",
      "g521 호노카\n",
      "g523 \n",
      "\u0004/\n",
      "g524 \u0004/\n",
      "g525 /\n",
      "g546 　\n",
      "g582 (MCI 에러! 문자열을 찾을 수 없습니다)\n",
      "g583 $힔\n",
      "g606 \u0001\u0002\n",
      "g658 쒊G\n",
      "g609 ╅\n"
     ]
    }
   ],
   "source": [
    "global_hexa_test = {\n",
    "\"g285\" : \"\\x06\\x0f\\x0f\\x0f\\x06\"\n",
    ",\"g378\" : \"~\\xb4\\xd9\\xbd\\xc3\\xc7\\xcf\\xb1\\xe2 \\xb5\\xa5\\xc0\\xcc\\xc5\\xcd.tmp\"\n",
    ",\"g385\" : \"\\xb0\\xd4\\xc0\\xd3 \\xb5\\xa5\\xc0\\xcc\\xc5\\xcd (*.sav)\"\n",
    ",\"g388\" : \"\\xb0\\xd4\\xc0\\xd3 \\xb5\\xa5\\xc0\\xcc\\xc5\\xcd (*.sav)\"\n",
    ",\"g389\" : \"\\xbb\\xe8\\xc1\\xa6\"\n",
    ",\"g394\" : \"\\x02\\x01\"\n",
    ",\"g395\" : \"\\x01\"\n",
    ",\"g420\" : \"\\xc0\\xda\"\n",
    ",\"g425\" : \"\\xbe\\xc6\\xc2\\xf7\\xa3\\xac\\xc0\\xcc\\xb7\\xb1\\xa1\\xa1\\xbd\\xc3\\xb0\\xa3\\xbf\\xa1\\xa1\\xa1\\xc0\\xfc\\xc8\\xad\\xc7\\xcf\\xb4\\xc2\\xa1\\xa1\\xb0\\xc7\\xa1\\xa1\\xbf\\xf8\\xbd\\xc3\\xc0\\xce\\xc0\\xcc\\xbe\\xdf\"\n",
    ",\"g435\" : \"\\xc8\\xb8\\xbb\\xf3\\xc7\\xd1\\xb4\\xd9\"\n",
    ",\"g436\" : \"\\xb1\\xd7\\xb8\\xb2\\xc0\\xbb \\xc3\\xa3\\xc0\\xbb \\xbc\\xf6 \\xbe\\xf8\\xbd\\xc0\\xb4\\xcf\\xb4\\xd9.\"\n",
    ",\"g437\" : \"\\xc0\\xcc\\xba\\xa5\\xc6\\xae \\xc8\\xb8\\xbb\\xf3\"\n",
    ",\"g439\" : \"\\xc0\\xcc\\xba\\xa5\\xc6\\xae\\xa1\\xa1\\xc5\\xd7\\xbd\\xba\\xc6\\xae\"\n",
    ",\"g446\" : \"BMP- Windows\\xba\\xf1\\xc6\\xae\\xb8\\xca(*.BMP)\"\n",
    ",\"g453\" : \"\\xba\\xae\\xc1\\xf6 \\xba\\xaf\\xb0\\xe6\\xbf\\xa1 \\xbd\\xc7\\xc6\\xd0\\xc7\\xdf\\xbd\\xc0\\xb4\\xcf\\xb4\\xd9.\"\n",
    ",\"g454\" : \"\\xbc\\xad\\xba\\xea\\xc5\\xb0 \\xbc\\xb3\\xc1\\xa4 \\xbd\\xc7\\xc6\\xd0\"\n",
    ",\"g455\" : \"\\xb7\\xb9\\xc1\\xf6\\xbd\\xba\\xc6\\xae\\xb8\\xae \\xbf\\xad\\xb1\\xe2 \\xbd\\xc7\\xc6\\xd0\"\n",
    ",\"g458\" : \"\\xc0\\xcc\\xb8\\xa7\\xc0\\xbb \\xc0\\xd4\\xb7\\xc2\\xc7\\xcf\\xbc\\xbc\\xbf\\xe4\"\n",
    ",\"g459\" : \"\\xbc\\xba\\xc0\\xbb \\xc0\\xd4\\xb7\\xc2\\xc7\\xcf\\xbc\\xbc\\xbf\\xe4\"\n",
    ",\"g460\" : \"\\xbc\\xba\\xb0\\xfa \\xc0\\xcc\\xb8\\xa7\\xc0\\xbb \\xc0\\xd4\\xb7\\xc2\\xc7\\xcf\\xbc\\xbc\\xbf\\xe4\"\n",
    ",\"g470\" : \"\\xbd\\xc3\\xbd\\xba\\xc5\\xdb \\xb8\\xed\\xb7\\xc9(&S)\"\n",
    ",\"g474\" : \"\\x02\\x03\\x04\\x01\\x03\\a\\x05\"\n",
    ",\"g475\" : \"\\x01\\x02\\x03\\x03\\x02\\x02\\x05\\x04\\x01\\x02\\x04\\x03\\x02\\x02\\a\\x05\\x01\\x02\\x03\\x03\\x02\\x02\\x06\\x04\\x01\\x02\\x04\\x03\\x02\\x02\\t\\b\\x01\\x02\\x03\\x03\\x02\\x02\\x05\\x04\\x01\\x02\\x04\\x03\\x02\\x02\\b\\x05\\x01\\x02\\x03\\x03\\x02\\x02\\x06\\x04\\x01\\x02\\x04\\x03\\x02\\x02\\x11\\nCPak\"\n",
    ",\"g476\" : \"\\x02\\x03\\x03\\x02\\x02\\x05\\x04\\x01\\x02\\x04\\x03\\x02\\x02\\a\\x05\\x01\\x02\\x03\\x03\\x02\\x02\\x06\\x04\\x01\\x02\\x04\\x03\\x02\\x02\\t\\b\\x01\\x02\\x03\\x03\\x02\\x02\\x05\\x04\\x01\\x02\\x04\\x03\\x02\\x02\\b\\x05\\x01\\x02\\x03\\x03\\x02\\x02\\x06\\x04\\x01\\x02\\x04\\x03\\x02\\x02\\x11\\nCPak\"\n",
    ",\"g497\" : \"\\xc0\\xcc \\xbe\\xee\\xc7\\xc3\\xb8\\xae\\xc4\\xc9\\xc0\\xcc\\xbc\\xc7\\xc0\\xba, High Color(16\\xba\\xf1\\xc6\\xae)\\xc0\\xcc\\xbb\\xf3\\xc0\\xc7 \\xb5\\xf0\\xbd\\xba\\xc7\\xc3\\xb7\\xb9\\xc0\\xcc \\xbc\\xb3\\xc1\\xa4\\xc0\\xcc \\xc7\\xca\\xbf\\xe4\\xc7\\xd5\\xb4\\xcf\\xb4\\xd9.\\n\\xb5\\xf0\\xbd\\xba\\xc7\\xc3\\xb7\\xb9\\xc0\\xcc\\xa1\\xe6\\xb5\\xf0\\xbd\\xba\\xc7\\xc3\\xb7\\xb9\\xc0\\xcc \\xbc\\xb3\\xc1\\xa4\\xc0\\xb8\\xb7\\xce \\xb5\\xe9\\xbe\\xee\\xb0\\xa1, \\xbc\\xb3\\xc1\\xa4\\xc0\\xbb \\xba\\xaf\\xb0\\xe6\\xc7\\xcf\\xbf\\xa9 \\xc1\\xd6\\xbd\\xca\\xbd\\xc3\\xbf\\xc0.\\n\\xbc\\xb1\\xc5\\xc3\\xc0\\xcc \\xb0\\xa1\\xb4\\xc9\\xc7\\xcf\\xb4\\xd9\\xb8\\xe9, True Color(24\\xba\\xf1\\xc6\\xae), \\xb6\\xc7\\xb4\\xc2 True Color(32\\xba\\xf1\\xc6\\xae)\\xb8\\xa6 \\xc3\\xdf\\xc3\\xb5\\xc7\\xd5\\xb4\\xcf\\xb4\\xd9.\"\n",
    ",\"g500\" : \"\\x64\\x61ta\\\\sound\"\n",
    ",\"g513\" : \"\\x0f\\x04\"\n",
    ",\"g514\" : \"\\x04\"\n",
    ",\"g518\" : \"6\\x02\\x05\\x0f\"\n",
    ",\"g521\" : \"\\xc8\\xa3\\xb3\\xeb\\xc4\\xab\"\n",
    ",\"g523\" : \"\\n\\x04/\"\n",
    ",\"g524\" : \"\\x04/\"\n",
    ",\"g525\" : \"/\"\n",
    ",\"g546\" : \"\\xa1\\xa1\"\n",
    ",\"g582\" : \"(MCI \\xbf\\xa1\\xb7\\xaf! \\xb9\\xae\\xc0\\xda\\xbf\\xad\\xc0\\xbb \\xc3\\xa3\\xc0\\xbb \\xbc\\xf6 \\xbe\\xf8\\xbd\\xc0\\xb4\\xcf\\xb4\\xd9)\"\n",
    ",\"g583\" : \"$\\xc6G\"\n",
    ",\"g606\" : \"\\x01\\x02\\x04\\b\"\n",
    ",\"g658\" : \"\\x9c\\xe1G\"\n",
    ",\"g609\" : \"\\xa6\\xdf\"\n",
    ",\"g658\" : \"\\x9c\\xe1G\"\n",
    "}\n",
    "display(type(global_hexa_test))\n",
    "\n",
    "for key in global_hexa_test:\n",
    "    fixed = global_hexa_test[key].encode('latin1').decode('cp949')\n",
    "    print(key, fixed)"
   ]
  },
  {
   "cell_type": "code",
   "execution_count": null,
   "id": "dd8ee091-1fe8-42c8-9b93-b952e6006edb",
   "metadata": {},
   "outputs": [],
   "source": []
  }
 ],
 "metadata": {
  "kernelspec": {
   "display_name": "Python 3 (ipykernel)",
   "language": "python",
   "name": "python3"
  },
  "language_info": {
   "codemirror_mode": {
    "name": "ipython",
    "version": 3
   },
   "file_extension": ".py",
   "mimetype": "text/x-python",
   "name": "python",
   "nbconvert_exporter": "python",
   "pygments_lexer": "ipython3",
   "version": "3.9.7"
  }
 },
 "nbformat": 4,
 "nbformat_minor": 5
}

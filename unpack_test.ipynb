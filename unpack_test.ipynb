{
 "cells": [
  {
   "cell_type": "code",
   "execution_count": 3,
   "id": "e3da64f9-f9fe-4612-9c9f-034737f21e84",
   "metadata": {},
   "outputs": [
    {
     "ename": "UnboundLocalError",
     "evalue": "local variable 'file' referenced before assignment",
     "output_type": "error",
     "traceback": [
      "\u001b[1;31m---------------------------------------------------------------------------\u001b[0m",
      "\u001b[1;31mUnboundLocalError\u001b[0m                         Traceback (most recent call last)",
      "Input \u001b[1;32mIn [3]\u001b[0m, in \u001b[0;36m<cell line: 64>\u001b[1;34m()\u001b[0m\n\u001b[0;32m     60\u001b[0m         file\u001b[38;5;241m.\u001b[39mwrite(byte\u001b[38;5;241m.\u001b[39mto_bytes(\u001b[38;5;241m1\u001b[39m, byteorder\u001b[38;5;241m=\u001b[39m\u001b[38;5;124m'\u001b[39m\u001b[38;5;124mbig\u001b[39m\u001b[38;5;124m'\u001b[39m))\n\u001b[0;32m     62\u001b[0m     file\u001b[38;5;241m.\u001b[39mclose()\n\u001b[1;32m---> 64\u001b[0m \u001b[43mwrite_file\u001b[49m\u001b[43m(\u001b[49m\u001b[43m)\u001b[49m\n",
      "Input \u001b[1;32mIn [3]\u001b[0m, in \u001b[0;36mwrite_file\u001b[1;34m()\u001b[0m\n\u001b[0;32m     52\u001b[0m \u001b[38;5;28;01mdef\u001b[39;00m \u001b[38;5;21mwrite_file\u001b[39m():\n\u001b[0;32m     53\u001b[0m     newFileBytes \u001b[38;5;241m=\u001b[39m [\u001b[38;5;241m123\u001b[39m, \u001b[38;5;241m3\u001b[39m, \u001b[38;5;241m255\u001b[39m, \u001b[38;5;241m0\u001b[39m, \u001b[38;5;241m100\u001b[39m]\n\u001b[1;32m---> 55\u001b[0m     put_fields(\u001b[43mfile\u001b[49m)\n\u001b[0;32m     56\u001b[0m     \u001b[38;5;66;03m# make file\u001b[39;00m\n\u001b[0;32m     57\u001b[0m     file \u001b[38;5;241m=\u001b[39m \u001b[38;5;28mopen\u001b[39m(\u001b[38;5;124m\"\u001b[39m\u001b[38;5;124mfile.dat\u001b[39m\u001b[38;5;124m\"\u001b[39m, \u001b[38;5;124m\"\u001b[39m\u001b[38;5;124mwb\u001b[39m\u001b[38;5;124m\"\u001b[39m)\n",
      "\u001b[1;31mUnboundLocalError\u001b[0m: local variable 'file' referenced before assignment"
     ]
    }
   ],
   "source": [
    "#bitmasks of fields 1-3, they fit in 2 bytes\n",
    "FIELD1 = 0b1111000000000000 # first 4 bits\n",
    "FIELD2 = 0b0000111000000000 # next 3 bits\n",
    "FIELD3 = 0b0000000111111111 # last 9 bits\n",
    "\n",
    "\n",
    "# --------------------------------------------------\n",
    "# byte를 int로 변경 \n",
    "def bytes_to_int(num):  #convert bytes object to an int\n",
    "    res = 0\n",
    "    num = num[::-1]  # reverse the bytes\n",
    "    for i in range(len(num)):\n",
    "        res += num[i] * (256**i)\n",
    "    return res\n",
    "\n",
    "# unpack\n",
    "def get_fields(f):\n",
    "    chunk = bytes_to_int(f.read(2))  # read 2 bytes, f1-f3, convert to int\n",
    "    f1 = (chunk & FIELD1) >> 12  # get each field with its bitmask\n",
    "    f2 = (chunk & FIELD2) >> 9\n",
    "    f3 = chunk & FIELD3\n",
    "    f4 = f.read(f3)  # field4 as a bytes object\n",
    "\n",
    "    return f1, f2, f3, f4\n",
    "\n",
    "def read_file():\n",
    "    file = open('file.dat','rb')\n",
    "\n",
    "    #using your sample data\n",
    "    print(get_fields(file))  # returns 0, 4, 384, field4 as a bytes obj\n",
    "    \n",
    "    file.close()\n",
    "    \n",
    "# --------------------------------------------------\n",
    "def int_to_byte(byte):  #convert int object to an byte\n",
    "    res = 0\n",
    "    byte = byte[::-1]  # reverse the bytes\n",
    "    for i in range(len(byte)):\n",
    "        res += byte[i] % (256**i)\n",
    "    return res\n",
    "\n",
    "\n",
    "def put_fields(filestream):\n",
    "    chunk = bytes_to_int(f.read(2))  # read 2 bytes, f1-f3, convert to int\n",
    "    f1 = (chunk & FIELD1) << 12  # get each field with its bitmask\n",
    "    f2 = (chunk & FIELD2) << 9\n",
    "    f3 = chunk & FIELD3\n",
    "    f4 = f.read(f3)  # field4 as a bytes object\n",
    "\n",
    "    return f1, f2, f3, f4\n",
    "    \n",
    "def write_file():\n",
    "    newFileStream = [123, 3, 255, 0, 100]\n",
    "    \n",
    "    PackBytes = put_fields(newFileStream)\n",
    "    # make file\n",
    "    file = open(\"file.dat\", \"wb\")\n",
    "    # write to file\n",
    "    for byte in PackBytes:\n",
    "        file.write(byte.to_bytes(1, byteorder='big'))\n",
    "        \n",
    "    file.close()\n",
    "    \n",
    "write_file()"
   ]
  },
  {
   "cell_type": "code",
   "execution_count": null,
   "id": "604acd84-a163-44a1-ae09-4ec0844f82e1",
   "metadata": {},
   "outputs": [],
   "source": []
  }
 ],
 "metadata": {
  "kernelspec": {
   "display_name": "Python 3 (ipykernel)",
   "language": "python",
   "name": "python3"
  },
  "language_info": {
   "codemirror_mode": {
    "name": "ipython",
    "version": 3
   },
   "file_extension": ".py",
   "mimetype": "text/x-python",
   "name": "python",
   "nbconvert_exporter": "python",
   "pygments_lexer": "ipython3",
   "version": "3.9.7"
  }
 },
 "nbformat": 4,
 "nbformat_minor": 5
}

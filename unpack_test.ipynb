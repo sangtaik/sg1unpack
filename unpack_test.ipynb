{
 "cells": [
  {
   "cell_type": "code",
   "execution_count": 2,
   "id": "e3da64f9-f9fe-4612-9c9f-034737f21e84",
   "metadata": {},
   "outputs": [
    {
     "ename": "FileNotFoundError",
     "evalue": "[Errno 2] No such file or directory: 'file.dat'",
     "output_type": "error",
     "traceback": [
      "\u001b[1;31m---------------------------------------------------------------------------\u001b[0m",
      "\u001b[1;31mFileNotFoundError\u001b[0m                         Traceback (most recent call last)",
      "Input \u001b[1;32mIn [2]\u001b[0m, in \u001b[0;36m<cell line: 25>\u001b[1;34m()\u001b[0m\n\u001b[0;32m     21\u001b[0m     \u001b[38;5;28mprint\u001b[39m(get_fields(file))  \u001b[38;5;66;03m# returns 0, 4, 384, field4 as a bytes obj\u001b[39;00m\n\u001b[0;32m     23\u001b[0m     file\u001b[38;5;241m.\u001b[39mclose()\n\u001b[1;32m---> 25\u001b[0m \u001b[43mread_file\u001b[49m\u001b[43m(\u001b[49m\u001b[43m)\u001b[49m\n",
      "Input \u001b[1;32mIn [2]\u001b[0m, in \u001b[0;36mread_file\u001b[1;34m()\u001b[0m\n\u001b[0;32m     17\u001b[0m \u001b[38;5;28;01mdef\u001b[39;00m \u001b[38;5;21mread_file\u001b[39m():\n\u001b[1;32m---> 18\u001b[0m     file \u001b[38;5;241m=\u001b[39m \u001b[38;5;28;43mopen\u001b[39;49m\u001b[43m(\u001b[49m\u001b[38;5;124;43m'\u001b[39;49m\u001b[38;5;124;43mfile.dat\u001b[39;49m\u001b[38;5;124;43m'\u001b[39;49m\u001b[43m,\u001b[49m\u001b[38;5;124;43m'\u001b[39;49m\u001b[38;5;124;43mrb\u001b[39;49m\u001b[38;5;124;43m'\u001b[39;49m\u001b[43m)\u001b[49m\n\u001b[0;32m     20\u001b[0m     \u001b[38;5;66;03m#using your sample data\u001b[39;00m\n\u001b[0;32m     21\u001b[0m     \u001b[38;5;28mprint\u001b[39m(get_fields(file))  \u001b[38;5;66;03m# returns 0, 4, 384, field4 as a bytes obj\u001b[39;00m\n",
      "\u001b[1;31mFileNotFoundError\u001b[0m: [Errno 2] No such file or directory: 'file.dat'"
     ]
    }
   ],
   "source": [
    "# byte를 int로 변경 \n",
    "# 참고 : http://mynthon.net/howto/-/python/python%20-%20snippets%20-%20byte-to-int-conversion.txt\n",
    "def bytes_to_int(num):  #convert bytes object to an int\n",
    "    res = 0\n",
    "    num = num[::-1]  # reverse the bytes\n",
    "    for i in range(len(num)):\n",
    "        res += num[i] * (256**i)\n",
    "    return res\n",
    "\n",
    "# unpack\n",
    "def get_fields(f):\n",
    "    chunk = bytes_to_int(f.read(4))  # read 2 bytes, f1-f3, convert to int\n",
    "    f1 = (chunk & 31) >> 0x80000000  # get each field with its bitmask\n",
    "\n",
    "    return f1\n",
    "\n",
    "def read_file():\n",
    "    file = open('file.dat','rb')\n",
    "\n",
    "    #using your sample data\n",
    "    print(get_fields(file))  # returns 0, 4, 384, field4 as a bytes obj\n",
    "    \n",
    "    file.close()\n",
    "\n",
    "read_file()"
   ]
  },
  {
   "cell_type": "code",
   "execution_count": null,
   "id": "604acd84-a163-44a1-ae09-4ec0844f82e1",
   "metadata": {},
   "outputs": [],
   "source": []
  }
 ],
 "metadata": {
  "kernelspec": {
   "display_name": "Python 3 (ipykernel)",
   "language": "python",
   "name": "python3"
  },
  "language_info": {
   "codemirror_mode": {
    "name": "ipython",
    "version": 3
   },
   "file_extension": ".py",
   "mimetype": "text/x-python",
   "name": "python",
   "nbconvert_exporter": "python",
   "pygments_lexer": "ipython3",
   "version": "3.9.7"
  }
 },
 "nbformat": 4,
 "nbformat_minor": 5
}

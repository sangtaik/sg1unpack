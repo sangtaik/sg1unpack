{
 "cells": [
  {
   "cell_type": "code",
   "execution_count": 17,
   "id": "81486ada-ab6d-46d5-9618-2efa89eae994",
   "metadata": {},
   "outputs": [],
   "source": [
    "import struct\n",
    "import base64\n",
    "import io\n",
    "from PIL import Image\n"
   ]
  },
  {
   "cell_type": "code",
   "execution_count": 16,
   "id": "01b63089-062c-4937-b2bb-85041157f233",
   "metadata": {},
   "outputs": [
    {
     "ename": "TypeError",
     "evalue": "a bytes-like object is required, not '_io.BufferedReader'",
     "output_type": "error",
     "traceback": [
      "\u001b[1;31m---------------------------------------------------------------------------\u001b[0m",
      "\u001b[1;31mTypeError\u001b[0m                                 Traceback (most recent call last)",
      "Input \u001b[1;32mIn [16]\u001b[0m, in \u001b[0;36m<cell line: 6>\u001b[1;34m()\u001b[0m\n\u001b[0;32m      1\u001b[0m \u001b[38;5;66;03m# PNG의 signiture는 시작이 89 50 4E 47 0D 0A 1A 0A 이다.\u001b[39;00m\n\u001b[0;32m      2\u001b[0m \u001b[38;5;66;03m# 첫 header는 3 byte이며 89 50 4E (PNG) 이다.\u001b[39;00m\n\u001b[0;32m      3\u001b[0m \u001b[38;5;66;03m# print(fd.read(4))\u001b[39;00m\n\u001b[0;32m      5\u001b[0m fd \u001b[38;5;241m=\u001b[39m \u001b[38;5;28mopen\u001b[39m(\u001b[38;5;124m\"\u001b[39m\u001b[38;5;124mdata/sample.png\u001b[39m\u001b[38;5;124m\"\u001b[39m, \u001b[38;5;124m\"\u001b[39m\u001b[38;5;124mrb\u001b[39m\u001b[38;5;124m\"\u001b[39m)\n\u001b[1;32m----> 6\u001b[0m str_frame \u001b[38;5;241m=\u001b[39m \u001b[43mstruct\u001b[49m\u001b[38;5;241;43m.\u001b[39;49m\u001b[43munpack\u001b[49m\u001b[43m(\u001b[49m\u001b[38;5;124;43m'\u001b[39;49m\u001b[38;5;124;43m<I\u001b[39;49m\u001b[38;5;124;43m'\u001b[39;49m\u001b[43m,\u001b[49m\u001b[43m \u001b[49m\u001b[43mfd\u001b[49m\u001b[43m)\u001b[49m[\u001b[38;5;241m0\u001b[39m]\n\u001b[0;32m      7\u001b[0m \u001b[38;5;66;03m# with open(\"data/sample.png\", \"rb\") as fd:\u001b[39;00m\n\u001b[0;32m      8\u001b[0m \u001b[38;5;66;03m#     for chunk in iter(lambda: fd.read(4), ''):\u001b[39;00m\n\u001b[0;32m      9\u001b[0m     \u001b[38;5;66;03m# I is integer,  and <I : little-endian, >I big-endian\u001b[39;00m\n\u001b[0;32m     10\u001b[0m         \u001b[38;5;66;03m#str_frame = struct.unpack('<I', chunk)[0]\u001b[39;00m\n\u001b[0;32m     11\u001b[0m         \u001b[38;5;66;03m#print('string frame :', str_frame)\u001b[39;00m\n\u001b[0;32m     13\u001b[0m file\u001b[38;5;241m.\u001b[39mclose()\n",
      "\u001b[1;31mTypeError\u001b[0m: a bytes-like object is required, not '_io.BufferedReader'"
     ]
    }
   ],
   "source": [
    "\n",
    "\n",
    "# PNG의 signiture는 시작이 89 50 4E 47 0D 0A 1A 0A 이다.\n",
    "# 첫 header는 3 byte이며 89 50 4E (PNG) 이다.\n",
    "# print(fd.read(4))\n",
    "\n",
    "fd = open(\"data/sample.png\", \"rb\")\n",
    "str_frame = struct.unpack('<I', fd)[0]\n",
    "# with open(\"data/sample.png\", \"rb\") as fd:\n",
    "#     for chunk in iter(lambda: fd.read(4), ''):\n",
    "    # I is integer,  and <I : little-endian, >I big-endian\n",
    "        #str_frame = struct.unpack('<I', chunk)[0]\n",
    "        #print('string frame :', str_frame)\n",
    "\n",
    "file.close()\n",
    "# Converts the base64 string into a byte string, we need to encode\n",
    "# str_frame as utf-8 first otherwise python3.2 complains about unicode\n",
    "b64decoded_frame = base64.b64decode(str_frame.encode('utf-8'))\n",
    "\n",
    "# This puts the decoded image into a buffer so that I don't need to save\n",
    "# it to disk to use it in PIL\n",
    "byte_stream = io.BytesIO(b64decoded_frame)\n",
    "\n",
    "# Open the image and convert it to 8-bit greyscale (mono8)\n",
    "img = Image.open(byte_stream).convert('L')\n",
    "\n",
    "# Get the 8-bit pixel value\n",
    "pixel_val = img.getpixel((pos['x'], pos['y']))\n",
    "\n",
    "# Convert the 8-bit pixel value to 16-bit by holding the rations\n",
    "# i.e. n8 / (2^8 - 1) == x16 / (2^16 - 1)\n",
    "pixel_val = int(pixel_val / 255 * 65535)\n",
    "\n",
    "img.show()"
   ]
  },
  {
   "cell_type": "code",
   "execution_count": null,
   "id": "e322ecc3-89d5-4d56-82d1-6ef2a11473b7",
   "metadata": {},
   "outputs": [],
   "source": []
  }
 ],
 "metadata": {
  "kernelspec": {
   "display_name": "Python 3 (ipykernel)",
   "language": "python",
   "name": "python3"
  },
  "language_info": {
   "codemirror_mode": {
    "name": "ipython",
    "version": 3
   },
   "file_extension": ".py",
   "mimetype": "text/x-python",
   "name": "python",
   "nbconvert_exporter": "python",
   "pygments_lexer": "ipython3",
   "version": "3.9.7"
  }
 },
 "nbformat": 4,
 "nbformat_minor": 5
}
